{
 "cells": [
  {
   "cell_type": "code",
   "execution_count": 2,
   "metadata": {},
   "outputs": [],
   "source": [
    "import pandas as pd\n",
    "import numpy as np\n",
    "\n",
    "dc_listings = pd.read_csv('http://data.insideairbnb.com/united-states/dc/washington-dc/2015-10-03/data/listings.csv.gz')"
   ]
  },
  {
   "cell_type": "code",
   "execution_count": 3,
   "metadata": {},
   "outputs": [
    {
     "data": {
      "text/html": [
       "<div>\n",
       "<style scoped>\n",
       "    .dataframe tbody tr th:only-of-type {\n",
       "        vertical-align: middle;\n",
       "    }\n",
       "\n",
       "    .dataframe tbody tr th {\n",
       "        vertical-align: top;\n",
       "    }\n",
       "\n",
       "    .dataframe thead th {\n",
       "        text-align: right;\n",
       "    }\n",
       "</style>\n",
       "<table border=\"1\" class=\"dataframe\">\n",
       "  <thead>\n",
       "    <tr style=\"text-align: right;\">\n",
       "      <th></th>\n",
       "      <th>id</th>\n",
       "      <th>listing_url</th>\n",
       "      <th>scrape_id</th>\n",
       "      <th>last_scraped</th>\n",
       "      <th>name</th>\n",
       "      <th>summary</th>\n",
       "      <th>space</th>\n",
       "      <th>description</th>\n",
       "      <th>experiences_offered</th>\n",
       "      <th>neighborhood_overview</th>\n",
       "      <th>...</th>\n",
       "      <th>review_scores_value</th>\n",
       "      <th>requires_license</th>\n",
       "      <th>license</th>\n",
       "      <th>jurisdiction_names</th>\n",
       "      <th>instant_bookable</th>\n",
       "      <th>cancellation_policy</th>\n",
       "      <th>require_guest_profile_picture</th>\n",
       "      <th>require_guest_phone_verification</th>\n",
       "      <th>calculated_host_listings_count</th>\n",
       "      <th>reviews_per_month</th>\n",
       "    </tr>\n",
       "  </thead>\n",
       "  <tbody>\n",
       "    <tr>\n",
       "      <th>0</th>\n",
       "      <td>7087327</td>\n",
       "      <td>https://www.airbnb.com/rooms/7087327</td>\n",
       "      <td>20151002231825</td>\n",
       "      <td>2015-10-03</td>\n",
       "      <td>Historic DC Condo-Walk to Capitol!</td>\n",
       "      <td>Professional pictures coming soon! Welcome to ...</td>\n",
       "      <td>NaN</td>\n",
       "      <td>Professional pictures coming soon! Welcome to ...</td>\n",
       "      <td>none</td>\n",
       "      <td>NaN</td>\n",
       "      <td>...</td>\n",
       "      <td>NaN</td>\n",
       "      <td>f</td>\n",
       "      <td>NaN</td>\n",
       "      <td>DISTRICT OF COLUMBIA, WASHINGTON</td>\n",
       "      <td>f</td>\n",
       "      <td>flexible</td>\n",
       "      <td>f</td>\n",
       "      <td>f</td>\n",
       "      <td>18</td>\n",
       "      <td>NaN</td>\n",
       "    </tr>\n",
       "    <tr>\n",
       "      <th>1</th>\n",
       "      <td>975833</td>\n",
       "      <td>https://www.airbnb.com/rooms/975833</td>\n",
       "      <td>20151002231825</td>\n",
       "      <td>2015-10-03</td>\n",
       "      <td>Spacious Capitol Hill Townhouse</td>\n",
       "      <td>NaN</td>\n",
       "      <td>Beautifully renovated Capitol Hill townhouse. ...</td>\n",
       "      <td>Beautifully renovated Capitol Hill townhouse. ...</td>\n",
       "      <td>none</td>\n",
       "      <td>NaN</td>\n",
       "      <td>...</td>\n",
       "      <td>9.0</td>\n",
       "      <td>f</td>\n",
       "      <td>NaN</td>\n",
       "      <td>DISTRICT OF COLUMBIA, WASHINGTON</td>\n",
       "      <td>f</td>\n",
       "      <td>strict</td>\n",
       "      <td>f</td>\n",
       "      <td>f</td>\n",
       "      <td>1</td>\n",
       "      <td>2.11</td>\n",
       "    </tr>\n",
       "    <tr>\n",
       "      <th>2</th>\n",
       "      <td>8249488</td>\n",
       "      <td>https://www.airbnb.com/rooms/8249488</td>\n",
       "      <td>20151002231825</td>\n",
       "      <td>2015-10-03</td>\n",
       "      <td>Spacious/private room for single</td>\n",
       "      <td>This is an ideal room for a single traveler th...</td>\n",
       "      <td>NaN</td>\n",
       "      <td>This is an ideal room for a single traveler th...</td>\n",
       "      <td>none</td>\n",
       "      <td>NaN</td>\n",
       "      <td>...</td>\n",
       "      <td>NaN</td>\n",
       "      <td>f</td>\n",
       "      <td>NaN</td>\n",
       "      <td>NaN</td>\n",
       "      <td>f</td>\n",
       "      <td>flexible</td>\n",
       "      <td>f</td>\n",
       "      <td>f</td>\n",
       "      <td>1</td>\n",
       "      <td>1.00</td>\n",
       "    </tr>\n",
       "    <tr>\n",
       "      <th>3</th>\n",
       "      <td>8409022</td>\n",
       "      <td>https://www.airbnb.com/rooms/8409022</td>\n",
       "      <td>20151002231825</td>\n",
       "      <td>2015-10-03</td>\n",
       "      <td>A wonderful bedroom with library</td>\n",
       "      <td>Prime location right on the Potomac River in W...</td>\n",
       "      <td>NaN</td>\n",
       "      <td>Prime location right on the Potomac River in W...</td>\n",
       "      <td>none</td>\n",
       "      <td>NaN</td>\n",
       "      <td>...</td>\n",
       "      <td>NaN</td>\n",
       "      <td>f</td>\n",
       "      <td>NaN</td>\n",
       "      <td>DISTRICT OF COLUMBIA, WASHINGTON</td>\n",
       "      <td>f</td>\n",
       "      <td>flexible</td>\n",
       "      <td>f</td>\n",
       "      <td>f</td>\n",
       "      <td>1</td>\n",
       "      <td>NaN</td>\n",
       "    </tr>\n",
       "    <tr>\n",
       "      <th>4</th>\n",
       "      <td>8411173</td>\n",
       "      <td>https://www.airbnb.com/rooms/8411173</td>\n",
       "      <td>20151002231825</td>\n",
       "      <td>2015-10-03</td>\n",
       "      <td>Downtown Silver Spring</td>\n",
       "      <td>Hi travellers! I live in this peaceful spot, b...</td>\n",
       "      <td>This is a 750 sq ft 1 bedroom 1 bathroom.  Whi...</td>\n",
       "      <td>Hi travellers! I live in this peaceful spot, b...</td>\n",
       "      <td>none</td>\n",
       "      <td>Silver Spring is booming.  You can walk to a n...</td>\n",
       "      <td>...</td>\n",
       "      <td>NaN</td>\n",
       "      <td>f</td>\n",
       "      <td>NaN</td>\n",
       "      <td>NaN</td>\n",
       "      <td>f</td>\n",
       "      <td>flexible</td>\n",
       "      <td>f</td>\n",
       "      <td>f</td>\n",
       "      <td>1</td>\n",
       "      <td>NaN</td>\n",
       "    </tr>\n",
       "  </tbody>\n",
       "</table>\n",
       "<p>5 rows × 92 columns</p>\n",
       "</div>"
      ],
      "text/plain": [
       "        id                           listing_url       scrape_id last_scraped  \\\n",
       "0  7087327  https://www.airbnb.com/rooms/7087327  20151002231825   2015-10-03   \n",
       "1   975833   https://www.airbnb.com/rooms/975833  20151002231825   2015-10-03   \n",
       "2  8249488  https://www.airbnb.com/rooms/8249488  20151002231825   2015-10-03   \n",
       "3  8409022  https://www.airbnb.com/rooms/8409022  20151002231825   2015-10-03   \n",
       "4  8411173  https://www.airbnb.com/rooms/8411173  20151002231825   2015-10-03   \n",
       "\n",
       "                                 name  \\\n",
       "0  Historic DC Condo-Walk to Capitol!   \n",
       "1     Spacious Capitol Hill Townhouse   \n",
       "2    Spacious/private room for single   \n",
       "3    A wonderful bedroom with library   \n",
       "4              Downtown Silver Spring   \n",
       "\n",
       "                                             summary  \\\n",
       "0  Professional pictures coming soon! Welcome to ...   \n",
       "1                                                NaN   \n",
       "2  This is an ideal room for a single traveler th...   \n",
       "3  Prime location right on the Potomac River in W...   \n",
       "4  Hi travellers! I live in this peaceful spot, b...   \n",
       "\n",
       "                                               space  \\\n",
       "0                                                NaN   \n",
       "1  Beautifully renovated Capitol Hill townhouse. ...   \n",
       "2                                                NaN   \n",
       "3                                                NaN   \n",
       "4  This is a 750 sq ft 1 bedroom 1 bathroom.  Whi...   \n",
       "\n",
       "                                         description experiences_offered  \\\n",
       "0  Professional pictures coming soon! Welcome to ...                none   \n",
       "1  Beautifully renovated Capitol Hill townhouse. ...                none   \n",
       "2  This is an ideal room for a single traveler th...                none   \n",
       "3  Prime location right on the Potomac River in W...                none   \n",
       "4  Hi travellers! I live in this peaceful spot, b...                none   \n",
       "\n",
       "                               neighborhood_overview        ...         \\\n",
       "0                                                NaN        ...          \n",
       "1                                                NaN        ...          \n",
       "2                                                NaN        ...          \n",
       "3                                                NaN        ...          \n",
       "4  Silver Spring is booming.  You can walk to a n...        ...          \n",
       "\n",
       "  review_scores_value requires_license license  \\\n",
       "0                 NaN                f     NaN   \n",
       "1                 9.0                f     NaN   \n",
       "2                 NaN                f     NaN   \n",
       "3                 NaN                f     NaN   \n",
       "4                 NaN                f     NaN   \n",
       "\n",
       "                 jurisdiction_names instant_bookable cancellation_policy  \\\n",
       "0  DISTRICT OF COLUMBIA, WASHINGTON                f            flexible   \n",
       "1  DISTRICT OF COLUMBIA, WASHINGTON                f              strict   \n",
       "2                               NaN                f            flexible   \n",
       "3  DISTRICT OF COLUMBIA, WASHINGTON                f            flexible   \n",
       "4                               NaN                f            flexible   \n",
       "\n",
       "   require_guest_profile_picture require_guest_phone_verification  \\\n",
       "0                              f                                f   \n",
       "1                              f                                f   \n",
       "2                              f                                f   \n",
       "3                              f                                f   \n",
       "4                              f                                f   \n",
       "\n",
       "  calculated_host_listings_count reviews_per_month  \n",
       "0                             18               NaN  \n",
       "1                              1              2.11  \n",
       "2                              1              1.00  \n",
       "3                              1               NaN  \n",
       "4                              1               NaN  \n",
       "\n",
       "[5 rows x 92 columns]"
      ]
     },
     "execution_count": 3,
     "metadata": {},
     "output_type": "execute_result"
    }
   ],
   "source": [
    "dc_listings.head()"
   ]
  },
  {
   "cell_type": "code",
   "execution_count": 4,
   "metadata": {},
   "outputs": [],
   "source": [
    "# Cleaning & Permutating data (Randomize the ordering of the dataset within the same distance, that way we won't be biasing the result to the ordering of the dataset.)\n",
    "\n",
    "stripped_commas = dc_listings['price'].str.replace(',', '')\n",
    "stripped_dollars = stripped_commas.str.replace('$', '')\n",
    "dc_listings['price'] = stripped_dollars.astype('float')\n",
    "\n",
    "np.random.seed(1)\n",
    "dc_listings = dc_listings.loc[np.random.permutation(len(dc_listings))]"
   ]
  },
  {
   "cell_type": "markdown",
   "metadata": {},
   "source": [
    "Euclidean distance calculates the distance between 2 observations. By ranking the distance by ascending orders, we can find the similarity.\n",
    "\n",
    "Below is a simple example for an univariate case."
   ]
  },
  {
   "cell_type": "code",
   "execution_count": 8,
   "metadata": {},
   "outputs": [
    {
     "name": "stdout",
     "output_type": "stream",
     "text": [
      "156.6\n"
     ]
    }
   ],
   "source": [
    "new_listing = 3\n",
    "dc_listings['distance'] = dc_listings['accommodates'].apply(lambda x: np.abs(x - new_listing))\n",
    "# dc_listings['distance'].value_counts()\n",
    "\n",
    "dc_listings = dc_listings.sort_values('distance')\n",
    "mean_price = dc_listings.iloc[0:5]['price'].mean()\n",
    "print(mean_price)"
   ]
  },
  {
   "cell_type": "code",
   "execution_count": 6,
   "metadata": {},
   "outputs": [],
   "source": [
    "# Create a function\n",
    "\n",
    "import pandas as pd\n",
    "import numpy as np\n",
    "\n",
    "dc_listings = pd.read_csv('http://data.insideairbnb.com/united-states/dc/washington-dc/2015-10-03/data/listings.csv.gz')\n",
    "\n",
    "stripped_commas = dc_listings['price'].str.replace(',', '')\n",
    "stripped_dollars = stripped_commas.str.replace('$', '')\n",
    "dc_listings['price'] = stripped_dollars.astype('float')\n",
    "\n",
    "train_df = dc_listings.iloc[0:2792]\n",
    "test_df = dc_listings.iloc[2792:]\n",
    "\n",
    "np.random.seed(1)\n",
    "dc_listings = dc_listings.loc[np.random.permutation(len(dc_listings))]\n",
    "\n",
    "def predict_price(new_listing):\n",
    "    temp_df = train_df.copy()\n",
    "    temp_df['distance'] = temp_df['accommodates'].apply(lambda x: np.abs(x - new_listing))\n",
    "    temp_df = temp_df.sort_values('distance')\n",
    "    nearest_neighbor_prices = temp_df.iloc[0:5]['price']\n",
    "    predicted_price = nearest_neighbor_prices.mean()\n",
    "    return(predicted_price)\n",
    "\n",
    "test_df['predicted_price'] = test_df['accommodates'].apply(predict_price)"
   ]
  },
  {
   "cell_type": "code",
   "execution_count": 9,
   "metadata": {},
   "outputs": [
    {
     "name": "stdout",
     "output_type": "stream",
     "text": [
      "One feature model:  18646.525370569325 136.55228072269364\n"
     ]
    }
   ],
   "source": [
    "test_df['squared_error'] = (test_df['predicted_price'] - test_df['price'])**(2)\n",
    "mse = test_df['squared_error'].mean()\n",
    "rmse = mse ** (1/2)\n",
    "print(\"One feature model: \", mse, rmse)"
   ]
  },
  {
   "cell_type": "markdown",
   "metadata": {},
   "source": [
    "### Multivariate K-nearest Neighbors"
   ]
  },
  {
   "cell_type": "code",
   "execution_count": 14,
   "metadata": {},
   "outputs": [
    {
     "name": "stdout",
     "output_type": "stream",
     "text": [
      "accommodates            0\n",
      "bedrooms               21\n",
      "bathrooms              27\n",
      "beds                   11\n",
      "price                   0\n",
      "cleaning_fee         1388\n",
      "security_deposit     2297\n",
      "minimum_nights          0\n",
      "maximum_nights          0\n",
      "number_of_reviews       0\n",
      "dtype: int64\n"
     ]
    }
   ],
   "source": [
    "np.random.seed(1)\n",
    "\n",
    "drop_columns = ['room_type', 'city', 'state', 'latitude', 'longitude', 'zipcode', 'host_response_rate', 'host_acceptance_rate', 'host_listings_count']\n",
    "\n",
    "dc_listings = pd.read_csv('https://dsserver-prod-resources-1.s3.amazonaws.com/140/dc_airbnb.csv?versionId=Q6mHGVbfiZHJTc5u3ggFujeFbUAtUJ2q')\n",
    "dc_listings = dc_listings.loc[np.random.permutation(len(dc_listings))]\n",
    "\n",
    "stripped_commas = dc_listings['price'].str.replace(',', '')\n",
    "stripped_dollars = stripped_commas.str.replace('$', '')\n",
    "dc_listings['price'] = stripped_dollars.astype('float')\n",
    "\n",
    "dc_listings = dc_listings.drop(drop_columns, axis=1)\n",
    "print(dc_listings.isnull().sum())"
   ]
  },
  {
   "cell_type": "code",
   "execution_count": 15,
   "metadata": {},
   "outputs": [
    {
     "name": "stdout",
     "output_type": "stream",
     "text": [
      "accommodates         0\n",
      "bedrooms             0\n",
      "bathrooms            0\n",
      "beds                 0\n",
      "price                0\n",
      "minimum_nights       0\n",
      "maximum_nights       0\n",
      "number_of_reviews    0\n",
      "dtype: int64\n"
     ]
    }
   ],
   "source": [
    "dc_listings = dc_listings.drop(['cleaning_fee', 'security_deposit'], axis=1)\n",
    "# remove the rows containing missing values\n",
    "dc_listings = dc_listings.dropna(axis=0)\n",
    "print(dc_listings.isnull().sum())"
   ]
  },
  {
   "cell_type": "markdown",
   "metadata": {},
   "source": [
    "To avoid having an outsized effect on the distance, normalize all of the columns to have a mean of 0 and a stdev of 1."
   ]
  },
  {
   "cell_type": "code",
   "execution_count": 19,
   "metadata": {},
   "outputs": [
    {
     "data": {
      "text/html": [
       "<div>\n",
       "<style scoped>\n",
       "    .dataframe tbody tr th:only-of-type {\n",
       "        vertical-align: middle;\n",
       "    }\n",
       "\n",
       "    .dataframe tbody tr th {\n",
       "        vertical-align: top;\n",
       "    }\n",
       "\n",
       "    .dataframe thead th {\n",
       "        text-align: right;\n",
       "    }\n",
       "</style>\n",
       "<table border=\"1\" class=\"dataframe\">\n",
       "  <thead>\n",
       "    <tr style=\"text-align: right;\">\n",
       "      <th></th>\n",
       "      <th>accommodates</th>\n",
       "      <th>bedrooms</th>\n",
       "      <th>bathrooms</th>\n",
       "      <th>beds</th>\n",
       "      <th>price</th>\n",
       "      <th>minimum_nights</th>\n",
       "      <th>maximum_nights</th>\n",
       "      <th>number_of_reviews</th>\n",
       "    </tr>\n",
       "  </thead>\n",
       "  <tbody>\n",
       "    <tr>\n",
       "      <th>574</th>\n",
       "      <td>-0.596544</td>\n",
       "      <td>-0.249467</td>\n",
       "      <td>-0.439151</td>\n",
       "      <td>-0.546858</td>\n",
       "      <td>125.0</td>\n",
       "      <td>-0.341375</td>\n",
       "      <td>-0.016604</td>\n",
       "      <td>4.579650</td>\n",
       "    </tr>\n",
       "    <tr>\n",
       "      <th>1593</th>\n",
       "      <td>-0.596544</td>\n",
       "      <td>-0.249467</td>\n",
       "      <td>0.412923</td>\n",
       "      <td>-0.546858</td>\n",
       "      <td>85.0</td>\n",
       "      <td>-0.341375</td>\n",
       "      <td>-0.016603</td>\n",
       "      <td>1.159275</td>\n",
       "    </tr>\n",
       "    <tr>\n",
       "      <th>3091</th>\n",
       "      <td>-1.095499</td>\n",
       "      <td>-0.249467</td>\n",
       "      <td>-1.291226</td>\n",
       "      <td>-0.546858</td>\n",
       "      <td>50.0</td>\n",
       "      <td>-0.341375</td>\n",
       "      <td>-0.016573</td>\n",
       "      <td>-0.482505</td>\n",
       "    </tr>\n",
       "    <tr>\n",
       "      <th>420</th>\n",
       "      <td>-0.596544</td>\n",
       "      <td>-0.249467</td>\n",
       "      <td>-0.439151</td>\n",
       "      <td>-0.546858</td>\n",
       "      <td>209.0</td>\n",
       "      <td>0.487635</td>\n",
       "      <td>-0.016584</td>\n",
       "      <td>-0.448301</td>\n",
       "    </tr>\n",
       "    <tr>\n",
       "      <th>808</th>\n",
       "      <td>4.393004</td>\n",
       "      <td>4.507903</td>\n",
       "      <td>1.264998</td>\n",
       "      <td>2.829956</td>\n",
       "      <td>215.0</td>\n",
       "      <td>-0.065038</td>\n",
       "      <td>-0.016553</td>\n",
       "      <td>0.646219</td>\n",
       "    </tr>\n",
       "  </tbody>\n",
       "</table>\n",
       "</div>"
      ],
      "text/plain": [
       "      accommodates  bedrooms  bathrooms      beds  price  minimum_nights  \\\n",
       "574      -0.596544 -0.249467  -0.439151 -0.546858  125.0       -0.341375   \n",
       "1593     -0.596544 -0.249467   0.412923 -0.546858   85.0       -0.341375   \n",
       "3091     -1.095499 -0.249467  -1.291226 -0.546858   50.0       -0.341375   \n",
       "420      -0.596544 -0.249467  -0.439151 -0.546858  209.0        0.487635   \n",
       "808       4.393004  4.507903   1.264998  2.829956  215.0       -0.065038   \n",
       "\n",
       "      maximum_nights  number_of_reviews  \n",
       "574        -0.016604           4.579650  \n",
       "1593       -0.016603           1.159275  \n",
       "3091       -0.016573          -0.482505  \n",
       "420        -0.016584          -0.448301  \n",
       "808        -0.016553           0.646219  "
      ]
     },
     "execution_count": 19,
     "metadata": {},
     "output_type": "execute_result"
    }
   ],
   "source": [
    "normalized_listings = (dc_listings - dc_listings.mean())/(dc_listings.std())\n",
    "\n",
    "normalized_listings['price'] = dc_listings['price']\n",
    "normalized_listings.head()"
   ]
  },
  {
   "cell_type": "markdown",
   "metadata": {},
   "source": [
    "#### Train a model using 4 features"
   ]
  },
  {
   "cell_type": "code",
   "execution_count": 20,
   "metadata": {},
   "outputs": [
    {
     "name": "stdout",
     "output_type": "stream",
     "text": [
      "15851.681638225256\n",
      "125.90346158158344\n"
     ]
    }
   ],
   "source": [
    "from sklearn.neighbors import KNeighborsRegressor\n",
    "from sklearn.metrics import mean_squared_error\n",
    "\n",
    "# select the relevant attributes\n",
    "features = ['accommodates', 'bedrooms', 'bathrooms', 'number_of_reviews']\n",
    "\n",
    "train_df = dc_listings.iloc[0:2792]\n",
    "test_df = dc_listings.iloc[2792:]\n",
    "\n",
    "knn = KNeighborsRegressor(n_neighbors=5, algorithm='brute')\n",
    "knn.fit(train_df[features], train_df['price'])\n",
    "four_predictions = knn.predict(test_df[features])\n",
    "four_mse = mean_squared_error(test_df['price'], four_predictions)\n",
    "four_rmse = four_mse ** (1/2)\n",
    "print(four_mse)\n",
    "print(four_rmse)"
   ]
  },
  {
   "cell_type": "markdown",
   "metadata": {},
   "source": [
    "#### Train a model using all features"
   ]
  },
  {
   "cell_type": "code",
   "execution_count": 21,
   "metadata": {},
   "outputs": [
    {
     "name": "stdout",
     "output_type": "stream",
     "text": [
      "13653.218202502845\n",
      "116.84698627907716\n"
     ]
    }
   ],
   "source": [
    "# increase the number of attributes by using all columns\n",
    "\n",
    "knn = KNeighborsRegressor(n_neighbors=5, algorithm='brute')\n",
    "\n",
    "features = train_df.columns.tolist()\n",
    "features.remove('price')\n",
    "\n",
    "knn.fit(train_df[features], train_df['price'])\n",
    "all_features_predictions = knn.predict(test_df[features])\n",
    "all_features_mse = mean_squared_error(test_df['price'], all_features_predictions)\n",
    "all_features_rmse = all_features_mse ** (1/2)\n",
    "print(all_features_mse)\n",
    "print(all_features_rmse)"
   ]
  },
  {
   "cell_type": "markdown",
   "metadata": {},
   "source": [
    "MSE and RMSE decreased as we increase the number of features and selected relevant features"
   ]
  },
  {
   "cell_type": "markdown",
   "metadata": {},
   "source": [
    "### Hyperparameter optimization\n",
    "\n",
    "Process of finding the optimal hyperparameter value\n",
    "\n",
    "Also known as grid search: evaluating the model performance at different k values and selecting the k value that resulted in the lowest error"
   ]
  },
  {
   "cell_type": "code",
   "execution_count": 29,
   "metadata": {},
   "outputs": [],
   "source": [
    "from sklearn.neighbors import KNeighborsRegressor\n",
    "from sklearn.metrics import mean_squared_error\n",
    "import matplotlib.pyplot as plt\n",
    "\n",
    "train_df = pd.read_csv('https://dsserver-prod-resources-1.s3.amazonaws.com/141/dc_airbnb_test.csv?versionId=RF0hZ3fqriNLUQ7AU5KuZQqa7omCDy1m')\n",
    "test_df = pd.read_csv('https://dsserver-prod-resources-1.s3.amazonaws.com/141/dc_airbnb_train.csv?versionId=3bxlkslBBNbiVI.Tni7h7fsIdWfGpzf.')\n",
    "\n",
    "features = ['accommodates', 'bedrooms', 'bathrooms', 'number_of_reviews']\n",
    "\n",
    "hyper_params = [x for x in range(1, 21)]\n",
    "mse_values = list()\n",
    "\n",
    "for hp in hyper_params:\n",
    "    knn = KNeighborsRegressor(n_neighbors=hp, algorithm='brute')\n",
    "    knn.fit(train_df[features], train_df['price'])\n",
    "    predictions = knn.predict(test_df[features])\n",
    "    mse = mean_squared_error(test_df['price'], predictions)\n",
    "    mse_values.append(mse)"
   ]
  },
  {
   "cell_type": "markdown",
   "metadata": {},
   "source": [
    "As k increases, the error rate decreases until a certain point, but then rebounds and increases again.\n",
    "\n",
    "##### Optimal k value is 6, since it resulted in the lowest MSE value"
   ]
  },
  {
   "cell_type": "code",
   "execution_count": 33,
   "metadata": {},
   "outputs": [
    {
     "data": {
      "image/png": "[encoded data removed]",
      "text/plain": [
       "<Figure size 432x288 with 1 Axes>"
      ]
     },
     "metadata": {
      "needs_background": "light"
     },
     "output_type": "display_data"
    }
   ],
   "source": [
    "plt.scatter(hyper_params, mse_values)\n",
    "plt.show()"
   ]
  },
  {
   "cell_type": "markdown",
   "metadata": {},
   "source": [
    "##### Perform the grid search using dictionary"
   ]
  },
  {
   "cell_type": "code",
   "execution_count": 34,
   "metadata": {},
   "outputs": [
    {
     "data": {
      "text/plain": [
       "[22089.760386819486,\n",
       " 15816.182754297994,\n",
       " 13556.333293537089,\n",
       " 12744.842809813754,\n",
       " 11874.90070200573]"
      ]
     },
     "execution_count": 34,
     "metadata": {},
     "output_type": "execute_result"
    }
   ],
   "source": [
    "mse_values[:5]"
   ]
  },
  {
   "cell_type": "code",
   "execution_count": 32,
   "metadata": {},
   "outputs": [
    {
     "data": {
      "text/plain": [
       "{6: 11626.922248089779}"
      ]
     },
     "execution_count": 32,
     "metadata": {},
     "output_type": "execute_result"
    }
   ],
   "source": [
    "# Finding the k value associated with the lowest MSE \n",
    "\n",
    "lowest_mse = mse_values[0]\n",
    "lowest_k = 1\n",
    "\n",
    "for k,mse in enumerate(mse_values):\n",
    "    if mse < lowest_mse:\n",
    "        lowest_mse = mse\n",
    "        lowest_k = k + 1\n",
    "\n",
    "hyp_mse = dict()\n",
    "hyp_mse[lowest_k] = lowest_mse\n",
    "\n",
    "hyp_mse"
   ]
  },
  {
   "cell_type": "markdown",
   "metadata": {},
   "source": [
    "When in doubt, create another model by performing the same procedure with different sets of features"
   ]
  },
  {
   "cell_type": "markdown",
   "metadata": {},
   "source": [
    "### Cross Validation\n",
    "\n",
    "#####  Holdout Validation"
   ]
  },
  {
   "cell_type": "code",
   "execution_count": 36,
   "metadata": {},
   "outputs": [],
   "source": [
    "shuffled_index = np.random.permutation(dc_listings.index)\n",
    "dc_listings = dc_listings.reindex(shuffled_index)\n",
    "\n",
    "split_one = dc_listings.iloc[0:1862].copy()\n",
    "split_two = dc_listings.iloc[1862:].copy()"
   ]
  },
  {
   "cell_type": "code",
   "execution_count": 37,
   "metadata": {},
   "outputs": [
    {
     "name": "stdout",
     "output_type": "stream",
     "text": [
      "117.72468326695143 140.8295579907386 129.277120628845\n"
     ]
    }
   ],
   "source": [
    "from sklearn.neighbors import KNeighborsRegressor\n",
    "from sklearn.metrics import mean_squared_error\n",
    "\n",
    "train_one = split_one\n",
    "test_one = split_two\n",
    "train_two = split_two\n",
    "test_two = split_one\n",
    "\n",
    "model = KNeighborsRegressor()\n",
    "\n",
    "# Train first half and Test second half\n",
    "model.fit(train_one[[\"accommodates\"]], train_one[\"price\"])\n",
    "test_one[\"predicted_price\"] = model.predict(test_one[[\"accommodates\"]])\n",
    "iteration_one_rmse = mean_squared_error(test_one[\"price\"], test_one[\"predicted_price\"])**(1/2)\n",
    "\n",
    "# Train second half and Test first half\n",
    "model.fit(train_two[[\"accommodates\"]], train_two[\"price\"])\n",
    "test_two[\"predicted_price\"] = model.predict(test_two[[\"accommodates\"]])\n",
    "iteration_two_rmse = mean_squared_error(test_two[\"price\"], test_two[\"predicted_price\"])**(1/2)\n",
    "\n",
    "avg_rmse = np.mean([iteration_two_rmse, iteration_one_rmse])\n",
    "\n",
    "print(iteration_one_rmse, iteration_two_rmse, avg_rmse)"
   ]
  },
  {
   "cell_type": "markdown",
   "metadata": {},
   "source": [
    "### K-fold cross-validation"
   ]
  },
  {
   "cell_type": "code",
   "execution_count": 38,
   "metadata": {},
   "outputs": [
    {
     "name": "stdout",
     "output_type": "stream",
     "text": [
      "2.0    745\n",
      "1.0    745\n",
      "4.0    744\n",
      "3.0    744\n",
      "5.0    693\n",
      "Name: fold, dtype: int64\n",
      "\n",
      " Num of missing values:  0\n"
     ]
    }
   ],
   "source": [
    "# Assign fold number for a different range of rows \n",
    "dc_listings.loc[dc_listings.index[0:745], \"fold\"] = 1\n",
    "dc_listings.loc[dc_listings.index[745:1490], \"fold\"] = 2\n",
    "dc_listings.loc[dc_listings.index[1490:2234], \"fold\"] = 3\n",
    "dc_listings.loc[dc_listings.index[2234:2978], \"fold\"] = 4\n",
    "dc_listings.loc[dc_listings.index[2978:3723], \"fold\"] = 5\n",
    "\n",
    "print(dc_listings['fold'].value_counts())\n",
    "print(\"\\n Num of missing values: \", dc_listings['fold'].isnull().sum())"
   ]
  },
  {
   "cell_type": "code",
   "execution_count": 39,
   "metadata": {},
   "outputs": [
    {
     "name": "stdout",
     "output_type": "stream",
     "text": [
      "[144.84681841645374, 125.32842781584691, 125.30059942016942, 107.63124496387245, 115.58657930753603]\n",
      "123.73873398477572\n"
     ]
    }
   ],
   "source": [
    "fold_ids = [1,2,3,4,5]\n",
    "\n",
    "def train_and_validate(df, folds):\n",
    "    fold_rmses = []\n",
    "    for fold in folds:\n",
    "        \n",
    "        model = KNeighborsRegressor()\n",
    "        train = df[df[\"fold\"] != fold]\n",
    "        test = df[df[\"fold\"] == fold].copy()\n",
    "        model.fit(train[[\"accommodates\"]], train[\"price\"])\n",
    "\n",
    "        labels = model.predict(test[[\"accommodates\"]])\n",
    "        test[\"predicted_price\"] = labels\n",
    "        mse = mean_squared_error(test[\"price\"], test[\"predicted_price\"])\n",
    "        rmse = mse**(1/2)\n",
    "        fold_rmses.append(rmse)\n",
    "    return(fold_rmses)\n",
    "\n",
    "rmses = train_and_validate(dc_listings, fold_ids)\n",
    "print(rmses)\n",
    "\n",
    "avg_rmse = np.mean(rmses)\n",
    "print(avg_rmse)"
   ]
  },
  {
   "cell_type": "markdown",
   "metadata": {},
   "source": [
    "## Using Scikit-learn for K-fold cross validation"
   ]
  },
  {
   "cell_type": "code",
   "execution_count": 40,
   "metadata": {},
   "outputs": [
    {
     "name": "stdout",
     "output_type": "stream",
     "text": [
      "[143.77182943 123.88674445 142.14925954 106.42425867 127.86157173]\n",
      "128.81873276584412\n"
     ]
    }
   ],
   "source": [
    "from sklearn.model_selection import cross_val_score, KFold\n",
    "\n",
    "kf = KFold(5, shuffle=True, random_state=1)\n",
    "model = KNeighborsRegressor()\n",
    "mses = cross_val_score(model, dc_listings[[\"accommodates\"]], dc_listings[\"price\"], scoring=\"neg_mean_squared_error\", cv=kf)\n",
    "rmses = np.sqrt(np.absolute(mses))\n",
    "avg_rmse = np.mean(rmses)\n",
    "\n",
    "print(rmses)\n",
    "print(avg_rmse)"
   ]
  },
  {
   "cell_type": "markdown",
   "metadata": {},
   "source": [
    "### Bias and Variance\n",
    "\n",
    "Standard deviation of the RMSE values can be a proxy for a model's variance.\n",
    "Average RMSE is a proxy for a model's bias."
   ]
  },
  {
   "cell_type": "code",
   "execution_count": 43,
   "metadata": {},
   "outputs": [
    {
     "name": "stdout",
     "output_type": "stream",
     "text": [
      "3 folds:  avg RMSE:  134.86707913681195 std RMSE:  14.842720846427673\n",
      "5 folds:  avg RMSE:  128.81873276584412 std RMSE:  13.62388476280421\n",
      "7 folds:  avg RMSE:  127.59502082826965 std RMSE:  14.294535047083892\n",
      "9 folds:  avg RMSE:  124.63739434767734 std RMSE:  24.359423338404667\n",
      "10 folds:  avg RMSE:  124.3671493246145 std RMSE:  21.311992109181915\n",
      "11 folds:  avg RMSE:  133.12034571517472 std RMSE:  18.88904830648317\n",
      "13 folds:  avg RMSE:  126.13683643774327 std RMSE:  29.433268675802164\n",
      "15 folds:  avg RMSE:  125.90598360414621 std RMSE:  22.99458244920716\n",
      "17 folds:  avg RMSE:  127.10877356321616 std RMSE:  32.073112883950195\n",
      "19 folds:  avg RMSE:  128.09995447601975 std RMSE:  30.57869743972596\n",
      "21 folds:  avg RMSE:  126.01273107102536 std RMSE:  31.625311714295744\n",
      "23 folds:  avg RMSE:  124.38052686458947 std RMSE:  34.43775479217727\n"
     ]
    }
   ],
   "source": [
    "from sklearn.model_selection import cross_val_score, KFold\n",
    "\n",
    "num_folds = [3, 5, 7, 9, 10, 11, 13, 15, 17, 19, 21, 23]\n",
    "mean_rmse = []\n",
    "\n",
    "for fold in num_folds:\n",
    "    kf = KFold(fold, shuffle=True, random_state=1)\n",
    "    model = KNeighborsRegressor()\n",
    "    mses = cross_val_score(model, dc_listings[[\"accommodates\"]], dc_listings[\"price\"], scoring=\"neg_mean_squared_error\", cv=kf)\n",
    "    rmses = np.sqrt(np.absolute(mses))\n",
    "    avg_rmse = np.mean(rmses)\n",
    "    std_rmse = np.std(rmses)\n",
    "    mean_rmse.append(avg_rmse)\n",
    "    print(str(fold), \"folds: \", \"avg RMSE: \", str(avg_rmse), \"std RMSE: \", str(std_rmse))"
   ]
  },
  {
   "cell_type": "markdown",
   "metadata": {},
   "source": [
    "Low RMSE (= Low bias but high variance) does not mean the model is accurate due to the high stdev."
   ]
  },
  {
   "cell_type": "markdown",
   "metadata": {},
   "source": [
    "#### Bias-variance tradeoff\n",
    "\n",
    "Bias: error that results in bad assumptions about the learning algorithm. For example, univariate regression model will result in high bias/error\n",
    "\n",
    "Variance: error that occurs because of the variability of a model's predicted values.  For example, multivariate regression model with 1000 features is complicated to train. There will be a low bias/error, but high variance. In an ideal world, we want low bias and low variance but in reality, there's always a tradeoff.\n",
    "\n",
    "\n"
   ]
  }
 ],
 "metadata": {
  "kernelspec": {
   "display_name": "Python 3",
   "language": "python",
   "name": "python3"
  },
  "language_info": {
   "codemirror_mode": {
    "name": "ipython",
    "version": 3
   },
   "file_extension": ".py",
   "mimetype": "text/x-python",
   "name": "python",
   "nbconvert_exporter": "python",
   "pygments_lexer": "ipython3",
   "version": "3.7.1"
  }
 },
 "nbformat": 4,
 "nbformat_minor": 2
}
